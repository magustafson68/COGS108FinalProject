{
 "cells": [
  {
   "cell_type": "markdown",
   "metadata": {},
   "source": [
    "# COGS 108 - Data Checkpoint"
   ]
  },
  {
   "cell_type": "markdown",
   "metadata": {},
   "source": [
    "# Names\n",
    "\n",
    "- Gijung Lapeyrouse\n",
    "- Matthew Gustafson\n",
    "- Ariel Bastomski\n",
    "- Andy Chan\n",
    "- Alexander Dimopoulos"
   ]
  },
  {
   "cell_type": "markdown",
   "metadata": {},
   "source": [
    "<a id='research_question'></a>\n",
    "# Research Question"
   ]
  },
  {
   "cell_type": "markdown",
   "metadata": {},
   "source": [
    "*How does one's risk of cardiovascular disease change depending on their lifestyle choices? Are certain regions of the United States more prone to these risks than others, and why might that be?*"
   ]
  },
  {
   "cell_type": "markdown",
   "metadata": {},
   "source": [
    "# Dataset(s)"
   ]
  },
  {
   "cell_type": "markdown",
   "metadata": {},
   "source": [
    "*Fill in your dataset information here*\n",
    "\n",
    "**Dataset #1:**\n",
    "- Dataset Name: Cardiovascular diseases dataset (clean)\n",
    "- Link to the dataset: https://www.kaggle.com/aiaiaidavid/cardio-data-dv13032020\n",
    "- Number of observations: 68,783\n",
    "\n",
    "*Information submitted for each observation includes physical characteristics such as age, gender, weight, and height, as well information about participants’ blood pressure, cholesterol and glucose levels. Finally, the data has information on whether or not the participant smokes or drinks alcohol, two well known risk factors for cardiovascular disease.*\n",
    "\n",
    "**Dataset #2:**\n",
    "- Dataset Name: 500 Cities: Coronary heart disease among adults aged >=18 years\n",
    "- Link to the dataset: https://chronicdata.cdc.gov/500-Cities-Places/500-Cities-Coronary-heart-disease-among-adults-age/cqcq-r6f8\n",
    "- Number of observations: 29,006 (500 after cleaning)\n",
    "\n",
    "*Information submitted for each observation includes the year the observation was taken, the state, city, and census tract from which the observation took place, and the Crude Prevalence and Age-Adjusted Prevalence rates of coronary heart disease among adults aged 18+ in each of these cities, plus the low and high confidence limits for these rates.*\n",
    "\n",
    "As we are using multiple datasets, we plan to use each of these datasets to answer a particular part of our research question. Our first dataset will help us find patterns between individual lifestyle choices and risk of cardiovascular disease while our second dataset will help determine what regions are more prone to cardiovascular disease as a whole. By combining the two different sources of information, we will be able to understand why the regions discovered through dataset #2 suffer from higher rates of cardiovascular disease."
   ]
  },
  {
   "cell_type": "markdown",
   "metadata": {},
   "source": [
    "# Setup"
   ]
  },
  {
   "cell_type": "code",
   "execution_count": 1,
   "metadata": {},
   "outputs": [],
   "source": [
    "import pandas as pd\n",
    "# Read the .csv file into a Jupyter notebook for pandas DataFrame usage\n",
    "# Identify the unique values of columns \n",
    "#     (if values are the same, they might be able to be tossed out and reported separately from the table)"
   ]
  },
  {
   "cell_type": "markdown",
   "metadata": {},
   "source": [
    "# Data Cleaning"
   ]
  },
  {
   "cell_type": "markdown",
   "metadata": {},
   "source": [
    "Describe your data cleaning steps here."
   ]
  },
  {
   "cell_type": "markdown",
   "metadata": {},
   "source": [
    "Our first dataset is already clean and requires no additional cleaning. This was determined to be the case because each of the individual features have already been standardized to either integer values or categorical data. Measurements for height and age have all been converted to cm and kg. The dataset is also already in a tidy format (.csv, to be precise), allowing for easier analysis."
   ]
  },
  {
   "cell_type": "code",
   "execution_count": 2,
   "metadata": {
    "scrolled": true
   },
   "outputs": [
    {
     "data": {
      "text/html": [
       "<div>\n",
       "<style scoped>\n",
       "    .dataframe tbody tr th:only-of-type {\n",
       "        vertical-align: middle;\n",
       "    }\n",
       "\n",
       "    .dataframe tbody tr th {\n",
       "        vertical-align: top;\n",
       "    }\n",
       "\n",
       "    .dataframe thead th {\n",
       "        text-align: right;\n",
       "    }\n",
       "</style>\n",
       "<table border=\"1\" class=\"dataframe\">\n",
       "  <thead>\n",
       "    <tr style=\"text-align: right;\">\n",
       "      <th></th>\n",
       "      <th>index</th>\n",
       "      <th>Year</th>\n",
       "      <th>StateAbbr</th>\n",
       "      <th>StateDesc</th>\n",
       "      <th>CityName</th>\n",
       "      <th>Measure</th>\n",
       "      <th>Data_Value_Unit</th>\n",
       "      <th>Data_Value_Type</th>\n",
       "      <th>Data_Value</th>\n",
       "      <th>Low_Confidence_Limit</th>\n",
       "      <th>High_Confidence_Limit</th>\n",
       "      <th>PopulationCount</th>\n",
       "    </tr>\n",
       "  </thead>\n",
       "  <tbody>\n",
       "    <tr>\n",
       "      <th>0</th>\n",
       "      <td>0</td>\n",
       "      <td>2017</td>\n",
       "      <td>CA</td>\n",
       "      <td>California</td>\n",
       "      <td>Hayward</td>\n",
       "      <td>Coronary heart disease among adults aged &gt;=18 ...</td>\n",
       "      <td>%</td>\n",
       "      <td>Age-adjusted prevalence</td>\n",
       "      <td>4.8</td>\n",
       "      <td>4.7</td>\n",
       "      <td>4.8</td>\n",
       "      <td>144186</td>\n",
       "    </tr>\n",
       "    <tr>\n",
       "      <th>1</th>\n",
       "      <td>4</td>\n",
       "      <td>2017</td>\n",
       "      <td>CA</td>\n",
       "      <td>California</td>\n",
       "      <td>Bellflower</td>\n",
       "      <td>Coronary heart disease among adults aged &gt;=18 ...</td>\n",
       "      <td>%</td>\n",
       "      <td>Age-adjusted prevalence</td>\n",
       "      <td>5.3</td>\n",
       "      <td>5.2</td>\n",
       "      <td>5.4</td>\n",
       "      <td>76616</td>\n",
       "    </tr>\n",
       "    <tr>\n",
       "      <th>2</th>\n",
       "      <td>9</td>\n",
       "      <td>2017</td>\n",
       "      <td>FL</td>\n",
       "      <td>Florida</td>\n",
       "      <td>Cape Coral</td>\n",
       "      <td>Coronary heart disease among adults aged &gt;=18 ...</td>\n",
       "      <td>%</td>\n",
       "      <td>Age-adjusted prevalence</td>\n",
       "      <td>6.3</td>\n",
       "      <td>6.2</td>\n",
       "      <td>6.4</td>\n",
       "      <td>154305</td>\n",
       "    </tr>\n",
       "    <tr>\n",
       "      <th>3</th>\n",
       "      <td>16</td>\n",
       "      <td>2017</td>\n",
       "      <td>KS</td>\n",
       "      <td>Kansas</td>\n",
       "      <td>Kansas City</td>\n",
       "      <td>Coronary heart disease among adults aged &gt;=18 ...</td>\n",
       "      <td>%</td>\n",
       "      <td>Age-adjusted prevalence</td>\n",
       "      <td>7.1</td>\n",
       "      <td>7.0</td>\n",
       "      <td>7.1</td>\n",
       "      <td>145786</td>\n",
       "    </tr>\n",
       "    <tr>\n",
       "      <th>4</th>\n",
       "      <td>28</td>\n",
       "      <td>2017</td>\n",
       "      <td>OH</td>\n",
       "      <td>Ohio</td>\n",
       "      <td>Parma</td>\n",
       "      <td>Coronary heart disease among adults aged &gt;=18 ...</td>\n",
       "      <td>%</td>\n",
       "      <td>Age-adjusted prevalence</td>\n",
       "      <td>6.0</td>\n",
       "      <td>5.8</td>\n",
       "      <td>6.1</td>\n",
       "      <td>81601</td>\n",
       "    </tr>\n",
       "  </tbody>\n",
       "</table>\n",
       "</div>"
      ],
      "text/plain": [
       "   index  Year StateAbbr   StateDesc     CityName  \\\n",
       "0      0  2017        CA  California      Hayward   \n",
       "1      4  2017        CA  California   Bellflower   \n",
       "2      9  2017        FL     Florida   Cape Coral   \n",
       "3     16  2017        KS      Kansas  Kansas City   \n",
       "4     28  2017        OH        Ohio        Parma   \n",
       "\n",
       "                                             Measure Data_Value_Unit  \\\n",
       "0  Coronary heart disease among adults aged >=18 ...               %   \n",
       "1  Coronary heart disease among adults aged >=18 ...               %   \n",
       "2  Coronary heart disease among adults aged >=18 ...               %   \n",
       "3  Coronary heart disease among adults aged >=18 ...               %   \n",
       "4  Coronary heart disease among adults aged >=18 ...               %   \n",
       "\n",
       "           Data_Value_Type  Data_Value  Low_Confidence_Limit  \\\n",
       "0  Age-adjusted prevalence         4.8                   4.7   \n",
       "1  Age-adjusted prevalence         5.3                   5.2   \n",
       "2  Age-adjusted prevalence         6.3                   6.2   \n",
       "3  Age-adjusted prevalence         7.1                   7.0   \n",
       "4  Age-adjusted prevalence         6.0                   5.8   \n",
       "\n",
       "   High_Confidence_Limit  PopulationCount  \n",
       "0                    4.8           144186  \n",
       "1                    5.4            76616  \n",
       "2                    6.4           154305  \n",
       "3                    7.1           145786  \n",
       "4                    6.1            81601  "
      ]
     },
     "execution_count": 2,
     "metadata": {},
     "output_type": "execute_result"
    }
   ],
   "source": [
    "# Cleaning Steps for Dataset #2\n",
    "# Read the csv file\n",
    "data = pd.read_csv('500_Cities__Coronary_heart_disease_among_adults_aged___18_years.csv')\n",
    "\n",
    "# Include only cities and age-adjusted prevalence rates for observations\n",
    "data = data[(data['GeographicLevel'] == 'City') & (data['DataValueTypeID'] == 'AgeAdjPrv')]\n",
    "\n",
    "# Include only the necessary columns for analysis\n",
    "data_trimmed = data[['Year', 'StateAbbr', 'StateDesc', 'CityName', 'Measure', 'Data_Value_Unit', 'Data_Value_Type', \n",
    "                     'Data_Value', 'Low_Confidence_Limit', 'High_Confidence_Limit', 'PopulationCount']].reset_index()\n",
    "\n",
    "# Display the data\n",
    "data_trimmed.head()"
   ]
  },
  {
   "cell_type": "markdown",
   "metadata": {},
   "source": [
    "Our second dataset was also already in a .csv format, so it was tidy from the start. However, the data did have to be cleaned up to get some extraneous data removed. First and foremost, observations were listed for the United States as a whole, then broken down by city for each state, then broken down by census tract for each city. We decided to only include city and state data in our observations, so we removed any rows that had information for the US as a whole or for specific census tracts. These observations were then broken down into Crude-Adjusted rates (which are influenced by underlying age distribution of the population) and Age-Adjusted rates (which are independent of age distributions of the population) for coronary heart disease. We decided to only focus on age-adjusted rates so that cities/states with an older population wouldn’t make the data biased in their favor. Finally, we removed any columns that had information not necessary to the analysis at hand, such as IDs used to identify certain cities and states when their names were already included in the dataset. We ended up with a dataset containing 500 rows and 11 columns, with each row representing a city’s rate of coronary heart disease for adults aged 18+."
   ]
  },
  {
   "cell_type": "code",
   "execution_count": null,
   "metadata": {},
   "outputs": [],
   "source": []
  }
 ],
 "metadata": {
  "kernelspec": {
   "display_name": "Python 3",
   "language": "python",
   "name": "python3"
  },
  "language_info": {
   "codemirror_mode": {
    "name": "ipython",
    "version": 3
   },
   "file_extension": ".py",
   "mimetype": "text/x-python",
   "name": "python",
   "nbconvert_exporter": "python",
   "pygments_lexer": "ipython3",
   "version": "3.8.6"
  }
 },
 "nbformat": 4,
 "nbformat_minor": 2
}
