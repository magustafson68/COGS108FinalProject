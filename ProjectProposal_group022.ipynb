{
 "cells": [
  {
   "cell_type": "markdown",
   "metadata": {},
   "source": [
    "# COGS 108 - Final Project Proposal"
   ]
  },
  {
   "cell_type": "markdown",
   "metadata": {},
   "source": [
    "# Names\n",
    "\n",
    "- Gijung Lapeyrouse\n",
    "- Matthew Gustafson\n",
    "- Alexander Dimopoulos\n",
    "- Ariel Bastomski\n",
    "- Andy Chan"
   ]
  },
  {
   "cell_type": "markdown",
   "metadata": {},
   "source": [
    "# Research Question"
   ]
  },
  {
   "cell_type": "markdown",
   "metadata": {},
   "source": [
    "*How does one's risk of cardiovascular disease change depending on both their career path and lifestyle choices? Has this risk increased due to the quarantine lifestyle of COVID-19?*"
   ]
  },
  {
   "cell_type": "markdown",
   "metadata": {},
   "source": [
    "## Background and Prior Work"
   ]
  },
  {
   "cell_type": "markdown",
   "metadata": {},
   "source": [
    "*Fill in your background and prior work here. Be sure to specify which statements are from which references.* \n",
    "\n",
    "Staying physically active is one of the best ways to ensure a healthy lifestyle and avoid certain illnesses. However, as more people shift from more physically demanding jobs to those that can accomplished simply by sitting at a desk, coupled with the rise of technology keeping us in one place and the ongoing COVID-19 pandemic forcing many people to stay indoors most of the time, it is certainly possible that modern lifestyle changes are consequently increasing the average person’s risk of debilitating illnesses such as cardiovascular (CV) disease. \n",
    "\n",
    "On the topic of sedentary living, the New York State Department of Health reports that people are at least 30-50% more likely to experience high blood pressure if they do not exercise regularly [1]. The risk factor of inactivity for CV disease is now becoming as high as the risk factor of smoking, given that in the United States, twice as many adults are inactive compared to adults smoking. As health advisories against harmful substances like cigarettes reduce the rate of risky behaviors such as smoking, could that inadvertently be leaving the issue of inactivity unaddressed with regards to rates of CV disease?\n",
    "\n",
    "On the topic of career paths in relation to CV disease, the CDC has shown that people working in blue-collar, service-oriented jobs such as wholesale, transportation, utilities, etc, were more likely to suffer a heart attack or stroke compared to those in white-collar jobs such as finance, science, education, etc [2]. However, the CDC also reported the difference in CV disease rates between employed and unemployed people and found that unemployed people were 32% more likely to experience heart disease compared to people employed in a single occupation. \n",
    "\n",
    "With the rise of remote learning/work due to the pandemic, the sedentary lifestyle is now being linked to our very careers in greater spades than ever before. Amidst the conveniences that remote work can provide with regards to commuting, schedule flexibility, etc, could this new shift in our work behaviors possibly be making us at greater risk for CV disease?\n",
    "\n",
    "References (include links):\n",
    "- 1) The New York State Department of Health \n",
    "    https://www.health.ny.gov/diseases/chronic/cvd.htm#:~:text=Less%20active%2C%20less%20fit%20persons,blood%20pressure%2C%20and%20elevated%20cholesterol\n",
    "    \n",
    "    \n",
    "- 2) Center for Disease Control via Workopolis\n",
    "    \n",
    "    https://careers.workopolis.com/advice/the-jobs-that-are-most-likely-to-kill-you-2/#:~:text=According%20to%20the%20Center%20for,than%20workers%20in%20other%20professions"
   ]
  },
  {
   "cell_type": "markdown",
   "metadata": {},
   "source": [
    "# Hypothesis\n"
   ]
  },
  {
   "cell_type": "markdown",
   "metadata": {},
   "source": [
    "*We believe that as someone has more resources at their disposal thanks to their career choices their risk of cardiovascular disease lowers but only up to a certain point. Other factors such as a sedentary lifestyle or added stressors from a high paying, strenuous job will lessen the benefits gained from money.*\n",
    "\n",
    "*Additionally, we believe that we will see these factors amplified in the past year due to the sedentary lifestyles forced upon people due to COVID-19.*"
   ]
  },
  {
   "cell_type": "markdown",
   "metadata": {},
   "source": [
    "# Data"
   ]
  },
  {
   "cell_type": "markdown",
   "metadata": {},
   "source": [
    "*Explain what the ideal dataset you would want to answer this question. (This should include: What variables? How many observations? Who/what/how would these data be collected? How would these data be stored/organized?)*\n",
    "\n",
    "- Some variables we would need are simple ones such as age ranges and gender. \n",
    "    - In addition we would need reports of average exercise levels and info pertaining to the careers of each individual. \n",
    "    - What is most important here is data related to average pay and level of stress associated with work.\n",
    "- CSV format ideal\n",
    "- Our current dataset is 70,000 but if we chose a different one ideally >50,000 patient\n",
    "- The study’s ideal minimum time range would be 5 or 10 years"
   ]
  },
  {
   "cell_type": "markdown",
   "metadata": {},
   "source": [
    "# Ethics & Privacy"
   ]
  },
  {
   "cell_type": "markdown",
   "metadata": {},
   "source": [
    "*As all of our data is anonymized, we do not anticipate any privacy issues with our data set. We’re hoping to find a dataset with a fairly evenly distributed population (not just a particular age group or ethnic group), but there are always potential biases that cannot be avoided. We will attempt to identify these biases by both looking at the data’s origins and by analyzing the contents of the data set itself, in order to identify potential biases. The data will likely be biased toward more developed countries, as data of this sort is not often available from less developed (or developing) countries. We are hoping that this data will generalize to the larger group of developed countries as a whole, with a fair distribution of different ethnicities and ages.*"
   ]
  },
  {
   "cell_type": "markdown",
   "metadata": {},
   "source": [
    "# Team Expectations "
   ]
  },
  {
   "cell_type": "markdown",
   "metadata": {},
   "source": [
    "*Our group's expectations are focused around each member putting in an equitable share of the total workload. Each team member should attempt to contribute to all parts while working together to complement each other’s strengths and weaknesses. Collaboration on aspects such as data set collection and brainstorming for data visualization procedures will be vital for the project and will be done through consistent communication via message channels like Discord and during meeting times with a TA.*"
   ]
  },
  {
   "cell_type": "markdown",
   "metadata": {},
   "source": [
    "# Project Timeline Proposal"
   ]
  },
  {
   "cell_type": "markdown",
   "metadata": {},
   "source": [
    "| Meeting Date  | Meeting Time| Completed Before Meeting  | Discuss at Meeting |\n",
    "|---|---|---|---|\n",
    "| 4/20  |  Throughout the day | Read & Think about COGS 108 expectations; brainstorm topics/questions  | Determine best form of communication; Discuss and decide on final project topic; discuss hypothesis; begin background research |  \n",
    "| 4/23  |  Before 11:59 PM |  Do background research on topic | Discuss ideal dataset(s) and ethics; draft project proposal | \n",
    "| 4/30  | 12 PM  | Edit, finalize, and submit proposal; Search for datasets  | Discuss Wrangling and possible analytical approaches; Assign group members to lead each specific part   |\n",
    "| 5/14  | 2 PM  | Import & Wrangle Data; EDA | Review/Edit wrangling/EDA; Discuss Analysis Plan   |\n",
    "| 5/21  | 1 PM  | Finalize wrangling/EDA; Begin Analysis | Discuss/edit Analysis; Complete project check-in |\n",
    "| 6/2  | 12 PM  | Complete analysis; Draft results/conclusion/discussion | Discuss/edit full project |\n",
    "| 6/9  | Before 11:59 PM  | NA | Turn in Final Project & Group Project Surveys |"
   ]
  }
 ],
 "metadata": {
  "kernelspec": {
   "display_name": "Python 3",
   "language": "python",
   "name": "python3"
  },
  "language_info": {
   "codemirror_mode": {
    "name": "ipython",
    "version": 3
   },
   "file_extension": ".py",
   "mimetype": "text/x-python",
   "name": "python",
   "nbconvert_exporter": "python",
   "pygments_lexer": "ipython3",
   "version": "3.8.6"
  }
 },
 "nbformat": 4,
 "nbformat_minor": 2
}
